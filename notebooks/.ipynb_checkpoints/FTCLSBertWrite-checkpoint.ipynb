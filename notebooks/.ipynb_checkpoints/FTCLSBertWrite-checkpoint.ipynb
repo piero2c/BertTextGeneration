{
 "cells": [
  {
   "cell_type": "code",
   "execution_count": 1,
   "metadata": {},
   "outputs": [],
   "source": [
    "from transformers import AutoTokenizer, TFAutoModelForSequenceClassification"
   ]
  },
  {
   "cell_type": "code",
   "execution_count": 8,
   "metadata": {},
   "outputs": [],
   "source": [
    "tokenizer = AutoTokenizer.from_pretrained('neuralmind/bert-base-portuguese-cased')"
   ]
  },
  {
   "cell_type": "code",
   "execution_count": 9,
   "metadata": {},
   "outputs": [
    {
     "data": {
      "text/plain": [
       "0"
      ]
     },
     "execution_count": 9,
     "metadata": {},
     "output_type": "execute_result"
    }
   ],
   "source": [
    "tokenizer.add_special_tokens({\n",
    "    'additional_special_tokens': ['[unused1]']\n",
    "})"
   ]
  },
  {
   "cell_type": "code",
   "execution_count": 14,
   "metadata": {},
   "outputs": [
    {
     "name": "stderr",
     "output_type": "stream",
     "text": [
      "Some layers from the model checkpoint at ../models/ft_bert_cls/ were not used when initializing TFBertForSequenceClassification: ['dropout_37']\n",
      "- This IS expected if you are initializing TFBertForSequenceClassification from the checkpoint of a model trained on another task or with another architecture (e.g. initializing a BertForSequenceClassification model from a BertForPreTraining model).\n",
      "- This IS NOT expected if you are initializing TFBertForSequenceClassification from the checkpoint of a model that you expect to be exactly identical (initializing a BertForSequenceClassification model from a BertForSequenceClassification model).\n",
      "Some layers of TFBertForSequenceClassification were not initialized from the model checkpoint at ../models/ft_bert_cls/ and are newly initialized: ['dropout_189']\n",
      "You should probably TRAIN this model on a down-stream task to be able to use it for predictions and inference.\n"
     ]
    }
   ],
   "source": [
    "bert = TFAutoModelForSequenceClassification.from_pretrained('../models/ft_bert_cls/', \n",
    "                                                            num_labels=tokenizer.vocab_size)"
   ]
  },
  {
   "cell_type": "code",
   "execution_count": null,
   "metadata": {},
   "outputs": [],
   "source": [
    "tokenized_input = tokenizer([review_text], [whole_title], return_tensors='tf')\n",
    "    print(tokenizer.decode(tokenized_input['input_ids'][0]))\n",
    "    logits = bert(tokenized_input)[0][0]"
   ]
  },
  {
   "cell_type": "code",
   "execution_count": 25,
   "metadata": {},
   "outputs": [],
   "source": [
    "_CLS, _MASK, _EOS, _SEP  = tokenizer.encode('[MASK] [unused1]')"
   ]
  },
  {
   "cell_type": "code",
   "execution_count": 37,
   "metadata": {},
   "outputs": [],
   "source": [
    "def bert_write(review_text):\n",
    "    global _MASK, _EOS\n",
    "    whole_title = '[MASK]'\n",
    "    whole_title_ids = [_MASK]\n",
    "\n",
    "    for _ in range(11):\n",
    "        tokenized_input = tokenizer([review_text], [whole_title], return_tensors='tf')\n",
    "        print(tokenizer.decode(tokenized_input['input_ids'][0]))\n",
    "        logits = bert(tokenized_input)[0][0]\n",
    "        # MASK MODEL\n",
    "        # best_token = logits[tokenized_input['input_ids'][0] == _MASK].numpy().argmax()\n",
    "        # CLS\n",
    "        best_token = logits.numpy().argmax()\n",
    "\n",
    "        if best_token == _EOS:\n",
    "            break\n",
    "\n",
    "        tokenized_input_ids = tokenized_input['input_ids'].numpy()[0, :-2].tolist()\n",
    "\n",
    "        tokenized_input_ids += [best_token]\n",
    "        sep_break = tokenized_input_ids.index(_SEP)\n",
    "        whole_title = tokenizer.decode(tokenized_input_ids[(sep_break+1):])\n",
    "\n",
    "        whole_title += ' [MASK]'\n",
    "\n",
    "    return whole_title.replace('[MASK]', '').strip()"
   ]
  },
  {
   "cell_type": "code",
   "execution_count": 37,
   "metadata": {},
   "outputs": [],
   "source": [
    "def bert_mask_write(review_text):\n",
    "    global _MASK, _EOS\n",
    "    whole_title = '[MASK]'\n",
    "    whole_title_ids = [_MASK]\n",
    "\n",
    "    for _ in range(11):\n",
    "        tokenized_input = tokenizer([review_text], [whole_title], return_tensors='tf')\n",
    "\n",
    "        print(tokenizer.decode(tokenized_input['input_ids'][0]))\n",
    "        \n",
    "        logits = bert(tokenized_input)[0][0]\n",
    "        best_token = logits[tokenized_input['input_ids'][0] == _MASK].numpy().argmax()\n",
    "\n",
    "        if best_token == _EOS:\n",
    "            break\n",
    "\n",
    "        tokenized_input_ids = tokenized_input['input_ids'].numpy()[0, :-2].tolist()\n",
    "\n",
    "        tokenized_input_ids += [best_token]\n",
    "        sep_break = tokenized_input_ids.index(_SEP)\n",
    "        whole_title = tokenizer.decode(tokenized_input_ids[(sep_break+1):])\n",
    "\n",
    "        whole_title += ' [MASK]'\n",
    "\n",
    "    return whole_title.replace('[MASK]', '').strip()"
   ]
  },
  {
   "cell_type": "code",
   "execution_count": 126,
   "metadata": {},
   "outputs": [],
   "source": [
    "import numpy as np"
   ]
  },
  {
   "cell_type": "code",
   "execution_count": 273,
   "metadata": {},
   "outputs": [],
   "source": [
    "def bert_cls_write(review_texts):\n",
    "    global _MASK, _EOS\n",
    "    whole_titles = ['[MASK]']*len(review_texts)\n",
    "    whole_titles_ids = [[_MASK] for _ in range(len(review_texts))]\n",
    "\n",
    "    # Obtém o tamanho (em tokens) do maior review\n",
    "    review_max_len = max(len(review) for review in tokenizer(review_texts, add_special_tokens=False)['input_ids'])\n",
    "    \n",
    "    for _ in range(11):\n",
    "        tokenized_input = tokenizer(review_texts, whole_titles, return_tensors='tf', padding='max_length',\n",
    "                                     max_length=review_max_len + 11 + 4)       \n",
    "\n",
    "        logits = bert(tokenized_input)[0]\n",
    "        best_tokens = logits.numpy().argmax(axis=-1)\n",
    "\n",
    "        tokenized_input_ids = tokenized_input['input_ids'].numpy()\n",
    "        \n",
    "        for text_nb, input_ids in enumerate(tokenized_input_ids):\n",
    "            mask_location = np.where(input_ids == _MASK)[0].item()\n",
    "            tokenized_input_ids[text_nb][mask_location] = best_tokens[text_nb]\n",
    "        \n",
    "        # Remove os tokens antes do primeiro [SEP]\n",
    "        tokenized_input_ids = [\n",
    "            input_ids[input_ids.index(_SEP)+1:] for input_ids in tokenized_input_ids.tolist()\n",
    "        ]\n",
    "        \n",
    "        # Remove os tokens depois do último [SEP]\n",
    "        tokenized_input_ids = [\n",
    "            input_ids[:input_ids.index(_SEP)] for input_ids in tokenized_input_ids\n",
    "        ]\n",
    "        \n",
    "        whole_titles = [tokenizer.decode(input_ids) + ' [MASK]'\n",
    "                        for text_nb, input_ids in enumerate(tokenized_input_ids)]\n",
    "    \n",
    "    return [\n",
    "        whole_title[:whole_title.find('[unused1]')].replace('[MASK]', '').strip() for whole_title in whole_titles\n",
    "    ]"
   ]
  },
  {
   "cell_type": "code",
   "execution_count": 278,
   "metadata": {},
   "outputs": [
    {
     "data": {
      "text/plain": [
       "['Gostei muito do produto',\n",
       " 'Ótimo',\n",
       " 'Gostei muito do produto',\n",
       " 'Ótimo',\n",
       " 'Gostei muito do produto',\n",
       " 'Ótimo',\n",
       " 'Gostei muito do produto',\n",
       " 'Ótimo',\n",
       " 'Gostei muito do produto',\n",
       " 'Ótimo',\n",
       " 'Gostei muito do produto',\n",
       " 'Ótimo',\n",
       " 'Gostei muito do produto',\n",
       " 'Ótimo',\n",
       " 'Gostei muito do produto',\n",
       " 'Ótimo',\n",
       " 'Gostei muito do produto',\n",
       " 'Ótimo',\n",
       " 'Gostei muito do produto',\n",
       " 'Ótimo']"
      ]
     },
     "execution_count": 278,
     "metadata": {},
     "output_type": "execute_result"
    }
   ],
   "source": [
    "bert_cls_write(['Excelente qualidade amei', 'Gostei muito, porém é meio raro']*10)"
   ]
  }
 ],
 "metadata": {
  "kernelspec": {
   "display_name": "tf2",
   "language": "python",
   "name": "tf2"
  },
  "language_info": {
   "codemirror_mode": {
    "name": "ipython",
    "version": 3
   },
   "file_extension": ".py",
   "mimetype": "text/x-python",
   "name": "python",
   "nbconvert_exporter": "python",
   "pygments_lexer": "ipython3",
   "version": "3.8.3"
  }
 },
 "nbformat": 4,
 "nbformat_minor": 4
}
