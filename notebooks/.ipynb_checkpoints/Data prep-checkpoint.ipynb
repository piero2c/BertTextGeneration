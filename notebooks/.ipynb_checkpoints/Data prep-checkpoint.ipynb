{
 "cells": [
  {
   "cell_type": "code",
   "execution_count": 2,
   "metadata": {},
   "outputs": [],
   "source": [
    "from sklearn.model_selection import train_test_split\n",
    "import numpy as np\n",
    "import pandas as pd\n",
    "\n",
    "import matplotlib.pyplot as plt\n",
    "%matplotlib inline\n"
   ]
  },
  {
   "cell_type": "code",
   "execution_count": 42,
   "metadata": {},
   "outputs": [],
   "source": [
    "random_seed = 42\n",
    "tr_prop = 0.7"
   ]
  },
  {
   "cell_type": "markdown",
   "metadata": {},
   "source": [
    "Carrega dados da b2W"
   ]
  },
  {
   "cell_type": "code",
   "execution_count": 44,
   "metadata": {},
   "outputs": [
    {
     "name": "stderr",
     "output_type": "stream",
     "text": [
      "/home/pi/anaconda3/envs/tf2/lib/python3.8/site-packages/IPython/core/interactiveshell.py:3062: DtypeWarning: Columns (2) have mixed types.Specify dtype option on import or set low_memory=False.\n",
      "  has_raised = await self.run_ast_nodes(code_ast.body, cell_name,\n"
     ]
    }
   ],
   "source": [
    "data = pd.read_csv('../data/B2W-Reviews01.csv', sep=';')[['review_title', 'review_text']]"
   ]
  },
  {
   "cell_type": "code",
   "execution_count": 45,
   "metadata": {},
   "outputs": [],
   "source": [
    "X, y = data.review_text.values.tolist(), data.review_title.values.tolist()"
   ]
  },
  {
   "cell_type": "code",
   "execution_count": 46,
   "metadata": {},
   "outputs": [],
   "source": [
    "shuffled_idx = np.arange(len(X))\n",
    "np.random.seed(random_seed)\n",
    "np.random.shuffle(shuffled_idx)"
   ]
  },
  {
   "cell_type": "code",
   "execution_count": 47,
   "metadata": {},
   "outputs": [],
   "source": [
    "X = np.array(X)[shuffled_idx]\n",
    "y = np.array(y)[shuffled_idx]"
   ]
  },
  {
   "cell_type": "code",
   "execution_count": 48,
   "metadata": {},
   "outputs": [],
   "source": [
    "tr_X, tr_y = X[:int(len(X)*0.7)], y[:int(len(X)*0.7)]\n",
    "te_X, te_y = X[int(len(X)*0.7):], y[int(len(X)*0.7):]"
   ]
  },
  {
   "cell_type": "markdown",
   "metadata": {},
   "source": [
    "----"
   ]
  },
  {
   "cell_type": "code",
   "execution_count": 1,
   "metadata": {},
   "outputs": [
    {
     "name": "stderr",
     "output_type": "stream",
     "text": [
      "/home/pi/anaconda3/envs/tf2/lib/python3.8/site-packages/torch/cuda/__init__.py:52: UserWarning: CUDA initialization: The NVIDIA driver on your system is too old (found version 10010). Please update your GPU driver by downloading and installing a new version from the URL: http://www.nvidia.com/Download/index.aspx Alternatively, go to: https://pytorch.org to install a PyTorch version that has been compiled with your version of the CUDA driver. (Triggered internally at  /pytorch/c10/cuda/CUDAFunctions.cpp:100.)\n",
      "  return torch._C._cuda_getDeviceCount() > 0\n"
     ]
    }
   ],
   "source": [
    "from transformers import AutoTokenizer"
   ]
  },
  {
   "cell_type": "code",
   "execution_count": 2,
   "metadata": {},
   "outputs": [],
   "source": [
    "import tensorflow as tf\n",
    "from tensorflow.keras.preprocessing.sequence import pad_sequences\n",
    "from tensorflow.keras.optimizers import Adam\n",
    "from tensorflow.keras.utils import to_categorical\n",
    "from tensorflow.keras.models import load_model, Model\n",
    "from tensorflow import keras\n",
    "\n",
    "from tensorflow.keras.utils import plot_model"
   ]
  },
  {
   "cell_type": "code",
   "execution_count": 3,
   "metadata": {},
   "outputs": [],
   "source": [
    "from nltk.tokenize import word_tokenize"
   ]
  },
  {
   "cell_type": "code",
   "execution_count": 4,
   "metadata": {},
   "outputs": [],
   "source": [
    "try:\n",
    "    physical_devices = tf.config.list_physical_devices('GPU')\n",
    "    tf.config.experimental.set_memory_growth(physical_devices[0], enable=True)\n",
    "except:\n",
    "    pass"
   ]
  },
  {
   "cell_type": "markdown",
   "metadata": {},
   "source": [
    "Carrega tokenizador e bert multilingual"
   ]
  },
  {
   "cell_type": "code",
   "execution_count": 5,
   "metadata": {},
   "outputs": [],
   "source": [
    "tokenizer = AutoTokenizer.from_pretrained('neuralmind/bert-base-portuguese-cased')"
   ]
  },
  {
   "cell_type": "markdown",
   "metadata": {},
   "source": [
    "Vamos usar o token `[unused1]` para delimitar o fim da sequência de texto (EOS)."
   ]
  },
  {
   "cell_type": "code",
   "execution_count": 10,
   "metadata": {},
   "outputs": [
    {
     "data": {
      "text/plain": [
       "OrderedDict([('[PAD]', 0),\n",
       "             ('[unused1]', 1),\n",
       "             ('[unused2]', 2),\n",
       "             ('[unused3]', 3),\n",
       "             ('[unused4]', 4),\n",
       "             ('[unused5]', 5),\n",
       "             ('[unused6]', 6),\n",
       "             ('[unused7]', 7),\n",
       "             ('[unused8]', 8),\n",
       "             ('[unused9]', 9),\n",
       "             ('[unused10]', 10),\n",
       "             ('[unused11]', 11),\n",
       "             ('[unused12]', 12),\n",
       "             ('[unused13]', 13),\n",
       "             ('[unused14]', 14),\n",
       "             ('[unused15]', 15),\n",
       "             ('[unused16]', 16),\n",
       "             ('[unused17]', 17),\n",
       "             ('[unused18]', 18),\n",
       "             ('[unused19]', 19),\n",
       "             ('[unused20]', 20),\n",
       "             ('[unused21]', 21),\n",
       "             ('[unused22]', 22),\n",
       "             ('[unused23]', 23),\n",
       "             ('[unused24]', 24),\n",
       "             ('[unused25]', 25),\n",
       "             ('[unused26]', 26),\n",
       "             ('[unused27]', 27),\n",
       "             ('[unused28]', 28),\n",
       "             ('[unused29]', 29),\n",
       "             ('[unused30]', 30),\n",
       "             ('[unused31]', 31),\n",
       "             ('[unused32]', 32),\n",
       "             ('[unused33]', 33),\n",
       "             ('[unused34]', 34),\n",
       "             ('[unused35]', 35),\n",
       "             ('[unused36]', 36),\n",
       "             ('[unused37]', 37),\n",
       "             ('[unused38]', 38),\n",
       "             ('[unused39]', 39),\n",
       "             ('[unused40]', 40),\n",
       "             ('[unused41]', 41),\n",
       "             ('[unused42]', 42),\n",
       "             ('[unused43]', 43),\n",
       "             ('[unused44]', 44),\n",
       "             ('[unused45]', 45),\n",
       "             ('[unused46]', 46),\n",
       "             ('[unused47]', 47),\n",
       "             ('[unused48]', 48),\n",
       "             ('[unused49]', 49),\n",
       "             ('[unused50]', 50),\n",
       "             ('[unused51]', 51),\n",
       "             ('[unused52]', 52),\n",
       "             ('[unused53]', 53),\n",
       "             ('[unused54]', 54),\n",
       "             ('[unused55]', 55),\n",
       "             ('[unused56]', 56),\n",
       "             ('[unused57]', 57),\n",
       "             ('[unused58]', 58),\n",
       "             ('[unused59]', 59),\n",
       "             ('[unused60]', 60),\n",
       "             ('[unused61]', 61),\n",
       "             ('[unused62]', 62),\n",
       "             ('[unused63]', 63),\n",
       "             ('[unused64]', 64),\n",
       "             ('[unused65]', 65),\n",
       "             ('[unused66]', 66),\n",
       "             ('[unused67]', 67),\n",
       "             ('[unused68]', 68),\n",
       "             ('[unused69]', 69),\n",
       "             ('[unused70]', 70),\n",
       "             ('[unused71]', 71),\n",
       "             ('[unused72]', 72),\n",
       "             ('[unused73]', 73),\n",
       "             ('[unused74]', 74),\n",
       "             ('[unused75]', 75),\n",
       "             ('[unused76]', 76),\n",
       "             ('[unused77]', 77),\n",
       "             ('[unused78]', 78),\n",
       "             ('[unused79]', 79),\n",
       "             ('[unused80]', 80),\n",
       "             ('[unused81]', 81),\n",
       "             ('[unused82]', 82),\n",
       "             ('[unused83]', 83),\n",
       "             ('[unused84]', 84),\n",
       "             ('[unused85]', 85),\n",
       "             ('[unused86]', 86),\n",
       "             ('[unused87]', 87),\n",
       "             ('[unused88]', 88),\n",
       "             ('[unused89]', 89),\n",
       "             ('[unused90]', 90),\n",
       "             ('[unused91]', 91),\n",
       "             ('[unused92]', 92),\n",
       "             ('[unused93]', 93),\n",
       "             ('[unused94]', 94),\n",
       "             ('[unused95]', 95),\n",
       "             ('[unused96]', 96),\n",
       "             ('[unused97]', 97),\n",
       "             ('[unused98]', 98),\n",
       "             ('[unused99]', 99),\n",
       "             ('[UNK]', 100),\n",
       "             ('[CLS]', 101),\n",
       "             ('[SEP]', 102),\n",
       "             ('[MASK]', 103),\n",
       "             ('<S>', 104),\n",
       "             ('<T>', 105),\n",
       "             ('!', 106),\n",
       "             ('\"', 107),\n",
       "             ('#', 108),\n",
       "             ('$', 109),\n",
       "             ('%', 110),\n",
       "             ('&', 111),\n",
       "             (\"'\", 112),\n",
       "             ('(', 113),\n",
       "             (')', 114),\n",
       "             ('*', 115),\n",
       "             ('+', 116),\n",
       "             (',', 117),\n",
       "             ('-', 118),\n",
       "             ('.', 119),\n",
       "             ('/', 120),\n",
       "             ('d', 121),\n",
       "             ('e', 122),\n",
       "             ('a', 123),\n",
       "             ('##ra', 124),\n",
       "             ('de', 125),\n",
       "             ('p', 126),\n",
       "             ('c', 127),\n",
       "             ('##os', 128),\n",
       "             ('##nt', 129),\n",
       "             ('##re', 130),\n",
       "             (':', 131),\n",
       "             (';', 132),\n",
       "             ('<', 133),\n",
       "             ('=', 134),\n",
       "             ('>', 135),\n",
       "             ('?', 136),\n",
       "             ('@', 137),\n",
       "             ('##as', 138),\n",
       "             ('s', 139),\n",
       "             ('##er', 140),\n",
       "             ('##or', 141),\n",
       "             ('##ad', 142),\n",
       "             ('##es', 143),\n",
       "             ('co', 144),\n",
       "             ('##is', 145),\n",
       "             ('o', 146),\n",
       "             ('##in', 147),\n",
       "             ('##ma', 148),\n",
       "             ('n', 149),\n",
       "             ('##ão', 150),\n",
       "             ('##ia', 151),\n",
       "             ('##qu', 152),\n",
       "             ('f', 153),\n",
       "             ('##ta', 154),\n",
       "             ('##me', 155),\n",
       "             ('##ic', 156),\n",
       "             ('##ro', 157),\n",
       "             ('##nd', 158),\n",
       "             ('##ar', 159),\n",
       "             ('t', 160),\n",
       "             ('##id', 161),\n",
       "             ('##al', 162),\n",
       "             ('qu', 163),\n",
       "             ('[', 164),\n",
       "             ('\\\\', 165),\n",
       "             (']', 166),\n",
       "             ('^', 167),\n",
       "             ('_', 168),\n",
       "             ('u', 169),\n",
       "             ('com', 170),\n",
       "             ('do', 171),\n",
       "             ('##ri', 172),\n",
       "             ('em', 173),\n",
       "             ('m', 174),\n",
       "             ('##nte', 175),\n",
       "             ('se', 176),\n",
       "             ('A', 177),\n",
       "             ('##el', 178),\n",
       "             ('que', 179),\n",
       "             ('da', 180),\n",
       "             ('##on', 181),\n",
       "             ('##ção', 182),\n",
       "             ('##to', 183),\n",
       "             ('re', 184),\n",
       "             ('##te', 185),\n",
       "             ('##ara', 186),\n",
       "             ('C', 187),\n",
       "             ('es', 188),\n",
       "             ('v', 189),\n",
       "             ('##an', 190),\n",
       "             ('##le', 191),\n",
       "             ('E', 192),\n",
       "             ('##ti', 193),\n",
       "             ('##en', 194),\n",
       "             ('{', 195),\n",
       "             ('|', 196),\n",
       "             ('}', 197),\n",
       "             ('~', 198),\n",
       "             ('¡', 199),\n",
       "             ('S', 200),\n",
       "             ('##ado', 201),\n",
       "             ('no', 202),\n",
       "             ('##ou', 203),\n",
       "             ('§', 204),\n",
       "             ('1', 205),\n",
       "             ('##\"', 206),\n",
       "             ('##res', 207),\n",
       "             ('«', 208),\n",
       "             ('##ul', 209),\n",
       "             ('##em', 210),\n",
       "             ('##ol', 211),\n",
       "             ('P', 212),\n",
       "             ('M', 213),\n",
       "             ('##ndo', 214),\n",
       "             ('##il', 215),\n",
       "             ('¶', 216),\n",
       "             ('·', 217),\n",
       "             ('##ci', 218),\n",
       "             ('l', 219),\n",
       "             ('»', 220),\n",
       "             ('para', 221),\n",
       "             ('um', 222),\n",
       "             ('ma', 223),\n",
       "             ('¿', 224),\n",
       "             ('##gu', 225),\n",
       "             ('##tu', 226),\n",
       "             ('fo', 227),\n",
       "             ('##am', 228),\n",
       "             ('na', 229),\n",
       "             ('uma', 230),\n",
       "             ('O', 231),\n",
       "             ('##ica', 232),\n",
       "             ('su', 233),\n",
       "             ('##nto', 234),\n",
       "             ('b', 235),\n",
       "             ('##se', 236),\n",
       "             ('g', 237),\n",
       "             ('in', 238),\n",
       "             ('##nc', 239),\n",
       "             ('por', 240),\n",
       "             ('B', 241),\n",
       "             ('##(', 242),\n",
       "             ('##do', 243),\n",
       "             ('##ei', 244),\n",
       "             ('2', 245),\n",
       "             ('##mente', 246),\n",
       "             ('##io', 247),\n",
       "             ('N', 248),\n",
       "             ('##us', 249),\n",
       "             ('D', 250),\n",
       "             ('##ada', 251),\n",
       "             ('##ha', 252),\n",
       "             ('é', 253),\n",
       "             ('i', 254),\n",
       "             ('##ns', 255),\n",
       "             ('##va', 256),\n",
       "             ('R', 257),\n",
       "             ('pro', 258),\n",
       "             ('os', 259),\n",
       "             ('as', 260),\n",
       "             ('##ade', 261),\n",
       "             ('foi', 262),\n",
       "             ('F', 263),\n",
       "             ('##po', 264),\n",
       "             ('##ent', 265),\n",
       "             ('##la', 266),\n",
       "             ('T', 267),\n",
       "             ('##ho', 268),\n",
       "             ('##pe', 269),\n",
       "             ('##ões', 270),\n",
       "             ('como', 271),\n",
       "             ('##de', 272),\n",
       "             ('des', 273),\n",
       "             ('j', 274),\n",
       "             ('19', 275),\n",
       "             ('L', 276),\n",
       "             ('##ras', 277),\n",
       "             ('G', 278),\n",
       "             ('pel', 279),\n",
       "             ('##iv', 280),\n",
       "             ('##iz', 281),\n",
       "             ('##mb', 282),\n",
       "             ('##mo', 283),\n",
       "             ('##it', 284),\n",
       "             ('##da', 285),\n",
       "             ('##ido', 286),\n",
       "             ('##ig', 287),\n",
       "             ('##ram', 288),\n",
       "             ('##ce', 289),\n",
       "             ('I', 290),\n",
       "             ('ou', 291),\n",
       "             ('##idade', 292),\n",
       "             ('##so', 293),\n",
       "             ('ex', 294),\n",
       "             ('##ist', 295),\n",
       "             ('##he', 296),\n",
       "             ('20', 297),\n",
       "             ('dos', 298),\n",
       "             ('J', 299),\n",
       "             ('##no', 300),\n",
       "             ('##ve', 301),\n",
       "             ('po', 302),\n",
       "             ('##co', 303),\n",
       "             ('##ca', 304),\n",
       "             ('ap', 305),\n",
       "             ('##tr', 306),\n",
       "             ('##ir', 307),\n",
       "             ('##ados', 308),\n",
       "             ('##un', 309),\n",
       "             ('##mento', 310),\n",
       "             ('me', 311),\n",
       "             ('##ém', 312),\n",
       "             ('al', 313),\n",
       "             ('##im', 314),\n",
       "             ('##ções', 315),\n",
       "             ('ta', 316),\n",
       "             ('con', 317),\n",
       "             ('ent', 318),\n",
       "             ('##ico', 319),\n",
       "             ('ao', 320),\n",
       "             ('##pa', 321),\n",
       "             ('##ria', 322),\n",
       "             ('##nde', 323),\n",
       "             ('##na', 324),\n",
       "             ('mais', 325),\n",
       "             ('##lo', 326),\n",
       "             ('sua', 327),\n",
       "             ('##ida', 328),\n",
       "             ('ca', 329),\n",
       "             ('H', 330),\n",
       "             ('so', 331),\n",
       "             ('par', 332),\n",
       "             ('ser', 333),\n",
       "             ('est', 334),\n",
       "             ('Em', 335),\n",
       "             ('cont', 336),\n",
       "             ('per', 337),\n",
       "             ('tra', 338),\n",
       "             ('##go', 339),\n",
       "             ('##ncia', 340),\n",
       "             ('##ação', 341),\n",
       "             ('##rio', 342),\n",
       "             ('##ita', 343),\n",
       "             ('for', 344),\n",
       "             ('Es', 345),\n",
       "             ('não', 346),\n",
       "             ('seu', 347),\n",
       "             ('##ando', 348),\n",
       "             ('h', 349),\n",
       "             ('##mp', 350),\n",
       "             ('##cia', 351),\n",
       "             ('##at', 352),\n",
       "             ('à', 353),\n",
       "             ('V', 354),\n",
       "             ('##\",', 355),\n",
       "             ('##ça', 356),\n",
       "             ('##if', 357),\n",
       "             ('##ntes', 358),\n",
       "             ('U', 359),\n",
       "             ('an', 360),\n",
       "             ('at', 361),\n",
       "             ('mu', 362),\n",
       "             ('pr', 363),\n",
       "             ('##ira', 364),\n",
       "             ('##ur', 365),\n",
       "             ('das', 366),\n",
       "             ('##ter', 367),\n",
       "             ('ele', 368),\n",
       "             ('pri', 369),\n",
       "             ('ter', 370),\n",
       "             ('##era', 371),\n",
       "             ('pa', 372),\n",
       "             ('##ito', 373),\n",
       "             ('to', 374),\n",
       "             ('##sa', 375),\n",
       "             ('tem', 376),\n",
       "             ('##ment', 377),\n",
       "             ('##vo', 378),\n",
       "             ('##du', 379),\n",
       "             ('cons', 380),\n",
       "             ('##ru', 381),\n",
       "             ('##tos', 382),\n",
       "             ('##ec', 383),\n",
       "             ('##ista', 384),\n",
       "             ('Co', 385),\n",
       "             ('##cion', 386),\n",
       "             ('##ina', 387),\n",
       "             ('ar', 388),\n",
       "             ('##um', 389),\n",
       "             ('mo', 390),\n",
       "             ('##ver', 391),\n",
       "             ('##ura', 392),\n",
       "             ('##tic', 393),\n",
       "             ('prime', 394),\n",
       "             ('fa', 395),\n",
       "             ('##),', 396),\n",
       "             ('##iro', 397),\n",
       "             ('res', 398),\n",
       "             ('##ência', 399),\n",
       "             ('201', 400),\n",
       "             ('##adas', 401),\n",
       "             ('##mbém', 402),\n",
       "             ('##ente', 403),\n",
       "             ('##nda', 404),\n",
       "             ('segu', 405),\n",
       "             ('##tura', 406),\n",
       "             ('também', 407),\n",
       "             ('comp', 408),\n",
       "             ('No', 409),\n",
       "             ('##nter', 410),\n",
       "             ('##lu', 411),\n",
       "             ('pela', 412),\n",
       "             ('##ez', 413),\n",
       "             ('##ior', 414),\n",
       "             ('##vel', 415),\n",
       "             ('gra', 416),\n",
       "             ('ac', 417),\n",
       "             ('esta', 418),\n",
       "             ('##vi', 419),\n",
       "             ('entre', 420),\n",
       "             ('##ga', 421),\n",
       "             ('200', 422),\n",
       "             ('pelo', 423),\n",
       "             ('##ers', 424),\n",
       "             ('sob', 425),\n",
       "             ('##ição', 426),\n",
       "             ('dis', 427),\n",
       "             ('##tor', 428),\n",
       "             ('pos', 429),\n",
       "             ('##ed', 430),\n",
       "             ('##ís', 431),\n",
       "             ('en', 432),\n",
       "             ('##ix', 433),\n",
       "             ('di', 434),\n",
       "             ('##\".', 435),\n",
       "             ('##tra', 436),\n",
       "             ('te', 437),\n",
       "             ('or', 438),\n",
       "             ('##og', 439),\n",
       "             ('esc', 440),\n",
       "             ('##ais', 441),\n",
       "             ('##dos', 442),\n",
       "             ('á', 443),\n",
       "             ('##ros', 444),\n",
       "             ('##ass', 445),\n",
       "             ('##ing', 446),\n",
       "             ('le', 447),\n",
       "             ('W', 448),\n",
       "             ('mas', 449),\n",
       "             ('fil', 450),\n",
       "             ('##oc', 451),\n",
       "             ('##ulo', 452),\n",
       "             ('são', 453),\n",
       "             ('mes', 454),\n",
       "             ('##que', 455),\n",
       "             ('##iu', 456),\n",
       "             ('##ib', 457),\n",
       "             ('##eiro', 458),\n",
       "             ('##pos', 459),\n",
       "             ('##ial', 460),\n",
       "             ('K', 461),\n",
       "             ('##esso', 462),\n",
       "             ('ob', 463),\n",
       "             ('##man', 464),\n",
       "             ('##ês', 465),\n",
       "             ('pre', 466),\n",
       "             ('##ári', 467),\n",
       "             ('##ag', 468),\n",
       "             ('##ós', 469),\n",
       "             ('##tas', 470),\n",
       "             ('##bl', 471),\n",
       "             ('ab', 472),\n",
       "             ('##tiv', 473),\n",
       "             ('##idos', 474),\n",
       "             ('ba', 475),\n",
       "             ('Al', 476),\n",
       "             ('##tal', 477),\n",
       "             ('##tica', 478),\n",
       "             ('##ens', 479),\n",
       "             ('##).', 480),\n",
       "             ('anos', 481),\n",
       "             ('Re', 482),\n",
       "             ('##be', 483),\n",
       "             ('##ion', 484),\n",
       "             ('##min', 485),\n",
       "             ('##mas', 486),\n",
       "             ('##tado', 487),\n",
       "             ('##ário', 488),\n",
       "             ('##ess', 489),\n",
       "             ('##aram', 490),\n",
       "             ('##pres', 491),\n",
       "             ('##bo', 492),\n",
       "             ('##ch', 493),\n",
       "             ('reg', 494),\n",
       "             ('era', 495),\n",
       "             ('Mar', 496),\n",
       "             ('##tru', 497),\n",
       "             ('sobre', 498),\n",
       "             ('##ere', 499),\n",
       "             ('##ador', 500),\n",
       "             ('##ios', 501),\n",
       "             ('ass', 502),\n",
       "             ('Na', 503),\n",
       "             ('cas', 504),\n",
       "             ('car', 505),\n",
       "             ('foram', 506),\n",
       "             ('##les', 507),\n",
       "             ('##inha', 508),\n",
       "             ('##inal', 509),\n",
       "             ('As', 510),\n",
       "             ('3', 511),\n",
       "             ('##for', 512),\n",
       "             ('##ades', 513),\n",
       "             ('##ne', 514),\n",
       "             ('##anto', 515),\n",
       "             ('tor', 516),\n",
       "             ('##ino', 517),\n",
       "             ('##vol', 518),\n",
       "             ('##orte', 519),\n",
       "             ('Pa', 520),\n",
       "             ('##ço', 521),\n",
       "             ('##gra', 522),\n",
       "             ('##cio', 523),\n",
       "             ('##ja', 524),\n",
       "             ('imp', 525),\n",
       "             ('##per', 526),\n",
       "             ('au', 527),\n",
       "             ('mar', 528),\n",
       "             ('nas', 529),\n",
       "             ('Se', 530),\n",
       "             ('##éc', 531),\n",
       "             ('seus', 532),\n",
       "             ('Os', 533),\n",
       "             ('##tros', 534),\n",
       "             ('##aliz', 535),\n",
       "             ('Un', 536),\n",
       "             ('##je', 537),\n",
       "             ('nos', 538),\n",
       "             ('##nta', 539),\n",
       "             ('De', 540),\n",
       "             ('##bal', 541),\n",
       "             ('18', 542),\n",
       "             ('pres', 543),\n",
       "             ('##iste', 544),\n",
       "             ('##der', 545),\n",
       "             ('##ham', 546),\n",
       "             ('forma', 547),\n",
       "             ('até', 548),\n",
       "             ('cor', 549),\n",
       "             ('##cial', 550),\n",
       "             ('##bro', 551),\n",
       "             ('##tro', 552),\n",
       "             ('##ons', 553),\n",
       "             ('##00', 554),\n",
       "             ('##tes', 555),\n",
       "             ('##eira', 556),\n",
       "             ('##indo', 557),\n",
       "             ('inter', 558),\n",
       "             ('##ip', 559),\n",
       "             ('##icos', 560),\n",
       "             ('##cional', 561),\n",
       "             ('##ias', 562),\n",
       "             ('inc', 563),\n",
       "             ('##anç', 564),\n",
       "             ('##ula', 565),\n",
       "             ('Por', 566),\n",
       "             ('##tiva', 567),\n",
       "             ('enc', 568),\n",
       "             ('##titu', 569),\n",
       "             ('rec', 570),\n",
       "             ('##-', 571),\n",
       "             ('fu', 572),\n",
       "             ('##pois', 573),\n",
       "             ('##pera', 574),\n",
       "             ('##urante', 575),\n",
       "             ('vez', 576),\n",
       "             ('ro', 577),\n",
       "             ('##tar', 578),\n",
       "             ('##mentos', 579),\n",
       "             ('##mer', 580),\n",
       "             ('##ba', 581),\n",
       "             ('onde', 582),\n",
       "             ('##ele', 583),\n",
       "             ('##lia', 584),\n",
       "             ('##icas', 585),\n",
       "             ('of', 586),\n",
       "             ('##ran', 587),\n",
       "             ('ho', 588),\n",
       "             ('##idades', 589),\n",
       "             ('##ér', 590),\n",
       "             ('##das', 591),\n",
       "             ('mil', 592),\n",
       "             ('##ite', 593),\n",
       "             ('##ase', 594),\n",
       "             ('##ivers', 595),\n",
       "             ('tempo', 596),\n",
       "             ('##ião', 597),\n",
       "             ('contra', 598),\n",
       "             ('lu', 599),\n",
       "             ('produ', 600),\n",
       "             ('ins', 601),\n",
       "             ('ad', 602),\n",
       "             ('##ral', 603),\n",
       "             ('##ber', 604),\n",
       "             ('##ús', 605),\n",
       "             ('conc', 606),\n",
       "             ('ha', 607),\n",
       "             ('##erra', 608),\n",
       "             ('prin', 609),\n",
       "             ('cam', 610),\n",
       "             ('##ários', 611),\n",
       "             ('Bras', 612),\n",
       "             ('##iss', 613),\n",
       "             ('algu', 614),\n",
       "             ('qual', 615),\n",
       "             ('##enas', 616),\n",
       "             ('Sa', 617),\n",
       "             ('##ont', 618),\n",
       "             ('##via', 619),\n",
       "             ('Ma', 620),\n",
       "             ('199', 621),\n",
       "             ('ano', 622),\n",
       "             ('du', 623),\n",
       "             ('##inda', 624),\n",
       "             ('quando', 625),\n",
       "             ('##ên', 626),\n",
       "             ('inte', 627),\n",
       "             ('Ca', 628),\n",
       "             ('sa', 629),\n",
       "             ('##til', 630),\n",
       "             ('ú', 631),\n",
       "             ('##anh', 632),\n",
       "             ('##ória', 633),\n",
       "             ('##ile', 634),\n",
       "             ('##dio', 635),\n",
       "             ('maior', 636),\n",
       "             ('oc', 637),\n",
       "             ('##hec', 638),\n",
       "             ('##entes', 639),\n",
       "             ('##ge', 640),\n",
       "             ('dire', 641),\n",
       "             ('##ín', 642),\n",
       "             ('##almente', 643),\n",
       "             ('dia', 644),\n",
       "             ('trabal', 645),\n",
       "             ('ra', 646),\n",
       "             ('##rá', 647),\n",
       "             ('##ôn', 648),\n",
       "             ('##idas', 649),\n",
       "             ('##0,', 650),\n",
       "             ('cidade', 651),\n",
       "             ('primeiro', 652),\n",
       "             ('mesmo', 653),\n",
       "             ('##tou', 654),\n",
       "             ('nome', 655),\n",
       "             ('##és', 656),\n",
       "             ('##por', 657),\n",
       "             ('##orre', 658),\n",
       "             ('faz', 659),\n",
       "             ('sendo', 660),\n",
       "             ('pol', 661),\n",
       "             ('come', 662),\n",
       "             ('՚', 663),\n",
       "             ('՛', 664),\n",
       "             ('՜', 665),\n",
       "             ('՝', 666),\n",
       "             ('՞', 667),\n",
       "             ('poss', 668),\n",
       "             ('trans', 669),\n",
       "             ('parte', 670),\n",
       "             ('##rada', 671),\n",
       "             ('##ranc', 672),\n",
       "             ('Ro', 673),\n",
       "             ('cl', 674),\n",
       "             ('suas', 675),\n",
       "             ('##istas', 676),\n",
       "             ('##este', 677),\n",
       "             ('4', 678),\n",
       "             ('##dia', 679),\n",
       "             ('##aria', 680),\n",
       "             ('primeira', 681),\n",
       "             ('dois', 682),\n",
       "             ('##hos', 683),\n",
       "             ('##rem', 684),\n",
       "             ('##ceu', 685),\n",
       "             ('princi', 686),\n",
       "             ('##est', 687),\n",
       "             ('##éri', 688),\n",
       "             ('rela', 689),\n",
       "             ('##ano', 690),\n",
       "             ('Su', 691),\n",
       "             ('##vam', 692),\n",
       "             ('dec', 693),\n",
       "             ('##bu', 694),\n",
       "             ('sub', 695),\n",
       "             ('Ch', 696),\n",
       "             ('##tivo', 697),\n",
       "             ('está', 698),\n",
       "             ('##ima', 699),\n",
       "             ('depois', 700),\n",
       "             ('##nos', 701),\n",
       "             ('##gar', 702),\n",
       "             ('##om', 703),\n",
       "             ('##ân', 704),\n",
       "             ('##gem', 705),\n",
       "             ('pode', 706),\n",
       "             ('։', 707),\n",
       "             ('֊', 708),\n",
       "             ('##over', 709),\n",
       "             ('São', 710),\n",
       "             ('##ular', 711),\n",
       "             ('aos', 712),\n",
       "             ('##tico', 713),\n",
       "             ('##ismo', 714),\n",
       "             ('##ola', 715),\n",
       "             ('##ona', 716),\n",
       "             ('ju', 717),\n",
       "             ('hist', 718),\n",
       "             ('־', 719),\n",
       "             ('##tados', 720),\n",
       "             ('##itos', 721),\n",
       "             ('׃', 722),\n",
       "             ('pass', 723),\n",
       "             ('Jo', 724),\n",
       "             ('##fer', 725),\n",
       "             ('durante', 726),\n",
       "             ('us', 727),\n",
       "             ('##ard', 728),\n",
       "             ('Ar', 729),\n",
       "             ('esp', 730),\n",
       "             ('##óp', 731),\n",
       "             ('5', 732),\n",
       "             ('ind', 733),\n",
       "             ('espe', 734),\n",
       "             ('##et', 735),\n",
       "             ('outros', 736),\n",
       "             ('##ração', 737),\n",
       "             ('cer', 738),\n",
       "             ('grande', 739),\n",
       "             ('ela', 740),\n",
       "             ('##ju', 741),\n",
       "             ('##eral', 742),\n",
       "             ('##son', 743),\n",
       "             ('ainda', 744),\n",
       "             ('torn', 745),\n",
       "             ('rece', 746),\n",
       "             ('##ela', 747),\n",
       "             ('##rou', 748),\n",
       "             ('##ás', 749),\n",
       "             ('׳', 750),\n",
       "             ('״', 751),\n",
       "             ('،', 752),\n",
       "             ('؍', 753),\n",
       "             ('##tó', 754),\n",
       "             ('؛', 755),\n",
       "             ('؟', 756),\n",
       "             ('##Qu', 757),\n",
       "             ('##isão', 758),\n",
       "             ('##ças', 759),\n",
       "             ('dif', 760),\n",
       "             ('Com', 761),\n",
       "             ('ag', 762),\n",
       "             ('##ogo', 763),\n",
       "             ('desen', 764),\n",
       "             ('che', 765),\n",
       "             ('pe', 766),\n",
       "             ('X', 767),\n",
       "             ('gru', 768),\n",
       "             ('##dem', 769),\n",
       "             ('já', 770),\n",
       "             ('Brasil', 771),\n",
       "             ('tr', 772),\n",
       "             ('Gu', 773),\n",
       "             ('final', 774),\n",
       "             ('##ór', 775),\n",
       "             ('##úbl', 776),\n",
       "             ('equ', 777),\n",
       "             ('encont', 778),\n",
       "             ('##tir', 779),\n",
       "             ('##fe', 780),\n",
       "             ('vol', 781),\n",
       "             ('Ap', 782),\n",
       "             ('Fo', 783),\n",
       "             ('##cias', 784),\n",
       "             ('muito', 785),\n",
       "             ('cri', 786),\n",
       "             ('Ele', 787),\n",
       "             ('##eito', 788),\n",
       "             ('##ine', 789),\n",
       "             ('após', 790),\n",
       "             ('##uro', 791),\n",
       "             ('ver', 792),\n",
       "             ('##mos', 793),\n",
       "             ('##ie', 794),\n",
       "             ('##ana', 795),\n",
       "             ('##enta', 796),\n",
       "             ('##idera', 797),\n",
       "             ('partic', 798),\n",
       "             ('##ck', 799),\n",
       "             ('##embro', 800),\n",
       "             ('##adores', 801),\n",
       "             ('pesso', 802),\n",
       "             ('apres', 803),\n",
       "             ('198', 804),\n",
       "             ('Car', 805),\n",
       "             ('país', 806),\n",
       "             ('Qu', 807),\n",
       "             ('gover', 808),\n",
       "             ('##uma', 809),\n",
       "             ('##val', 810),\n",
       "             ('٪', 811),\n",
       "             ('٫', 812),\n",
       "             ('٬', 813),\n",
       "             ('٭', 814),\n",
       "             ('pop', 815),\n",
       "             ('lanç', 816),\n",
       "             ('loc', 817),\n",
       "             ('conhec', 818),\n",
       "             ('jog', 819),\n",
       "             ('apenas', 820),\n",
       "             ('##elo', 821),\n",
       "             ('can', 822),\n",
       "             ('##are', 823),\n",
       "             ('##ord', 824),\n",
       "             ('##rado', 825),\n",
       "             ('##ício', 826),\n",
       "             ('##pre', 827),\n",
       "             ('##esa', 828),\n",
       "             ('atu', 829),\n",
       "             ('##cu', 830),\n",
       "             ('##íp', 831),\n",
       "             ('##ições', 832),\n",
       "             ('##ng', 833),\n",
       "             ('sem', 834),\n",
       "             ('##ível', 835),\n",
       "             ('##plo', 836),\n",
       "             ('۔', 837),\n",
       "             ('##inu', 838),\n",
       "             ('##tras', 839),\n",
       "             ('##ala', 840),\n",
       "             ('fam', 841),\n",
       "             ('##has', 842),\n",
       "             ('Ba', 843),\n",
       "             ('##rav', 844),\n",
       "             ('mús', 845),\n",
       "             ('##gre', 846),\n",
       "             ('is', 847),\n",
       "             ('então', 848),\n",
       "             ('cham', 849),\n",
       "             ('##ntos', 850),\n",
       "             ('inf', 851),\n",
       "             ('##za', 852),\n",
       "             ('cap', 853),\n",
       "             ('cria', 854),\n",
       "             ('##icial', 855),\n",
       "             ('ant', 856),\n",
       "             ('##vido', 857),\n",
       "             ('realiz', 858),\n",
       "             ('##atro', 859),\n",
       "             ('este', 860),\n",
       "             ('##gan', 861),\n",
       "             ('##pu', 862),\n",
       "             ('##pl', 863),\n",
       "             ('três', 864),\n",
       "             ('##con', 865),\n",
       "             ('gu', 866),\n",
       "             ('ál', 867),\n",
       "             ('inclu', 868),\n",
       "             ('Mu', 869),\n",
       "             ('af', 870),\n",
       "             ('##segu', 871),\n",
       "             ('ne', 872),\n",
       "             ('ve', 873),\n",
       "             ('##icação', 874),\n",
       "             ('orig', 875),\n",
       "             ('##êm', 876),\n",
       "             ('un', 877),\n",
       "             ('##ide', 878),\n",
       "             ('pu', 879),\n",
       "             ('##tá', 880),\n",
       "             ('##lti', 881),\n",
       "             ('cr', 882),\n",
       "             ('Par', 883),\n",
       "             ('##unic', 884),\n",
       "             ('##cesso', 885),\n",
       "             ('polí', 886),\n",
       "             ('##érie', 887),\n",
       "             ('6', 888),\n",
       "             ('197', 889),\n",
       "             ('##orta', 890),\n",
       "             ('nov', 891),\n",
       "             ('##ril', 892),\n",
       "             ('constru', 893),\n",
       "             ('##aneiro', 894),\n",
       "             ('Mo', 895),\n",
       "             ('Lu', 896),\n",
       "             ('##ton', 897),\n",
       "             ('si', 898),\n",
       "             ('##ticas', 899),\n",
       "             ('##rar', 900),\n",
       "             ('div', 901),\n",
       "             ('ed', 902),\n",
       "             ('##gua', 903),\n",
       "             ('##forma', 904),\n",
       "             ('princip', 905),\n",
       "             ('##rig', 906),\n",
       "             ('##ific', 907),\n",
       "             ('sido', 908),\n",
       "             ('##veis', 909),\n",
       "             ('##ização', 910),\n",
       "             ('Le', 911),\n",
       "             ('##ena', 912),\n",
       "             ('estu', 913),\n",
       "             ('##hor', 914),\n",
       "             ('conf', 915),\n",
       "             ('##2,', 916),\n",
       "             ('##bum', 917),\n",
       "             ('##cul', 918),\n",
       "             ('desenvol', 919),\n",
       "             ('।', 920),\n",
       "             ('॥', 921),\n",
       "             ('##idente', 922),\n",
       "             ('##iam', 923),\n",
       "             ('duas', 924),\n",
       "             ('ir', 925),\n",
       "             ('poder', 926),\n",
       "             ('##8,', 927),\n",
       "             ('form', 928),\n",
       "             ('##7,', 929),\n",
       "             ('começ', 930),\n",
       "             ('##itar', 931),\n",
       "             ('॰', 932),\n",
       "             ('##ves', 933),\n",
       "             ('##car', 934),\n",
       "             ('##5,', 935),\n",
       "             ('nú', 936),\n",
       "             ('##6,', 937),\n",
       "             ('##ant', 938),\n",
       "             ('grupo', 939),\n",
       "             ('nova', 940),\n",
       "             ('##quanto', 941),\n",
       "             ('##cos', 942),\n",
       "             ('##cer', 943),\n",
       "             ('todos', 944),\n",
       "             ('##iga', 945),\n",
       "             ('##1,', 946),\n",
       "             ('##dor', 947),\n",
       "             ('##4,', 948),\n",
       "             ('mel', 949),\n",
       "             ('##dic', 950),\n",
       "             ('##cimento', 951),\n",
       "             ('##rea', 952),\n",
       "             ('##vimento', 953),\n",
       "             ('pelos', 954),\n",
       "             ('liv', 955),\n",
       "             ('##mar', 956),\n",
       "             ('Y', 957),\n",
       "             ('fre', 958),\n",
       "             ('Para', 959),\n",
       "             ('util', 960),\n",
       "             ('álbum', 961),\n",
       "             ('vo', 962),\n",
       "             ('##árias', 963),\n",
       "             ('ti', 964),\n",
       "             ('##th', 965),\n",
       "             ('##las', 966),\n",
       "             ('siste', 967),\n",
       "             ('fun', 968),\n",
       "             ('sol', 969),\n",
       "             ('196', 970),\n",
       "             ('##3,', 971),\n",
       "             ('Cam', 972),\n",
       "             ('últi', 973),\n",
       "             ('##mbro', 974),\n",
       "             ('def', 975),\n",
       "             ('##rito', 976),\n",
       "             ('7', 977),\n",
       "             ('tinha', 978),\n",
       "             ('##ribu', 979),\n",
       "             ('##bil', 980),\n",
       "             ('série', 981),\n",
       "             ('fic', 982),\n",
       "             ('prof', 983),\n",
       "             ('##agem', 984),\n",
       "             ('So', 985),\n",
       "             ('##inas', 986),\n",
       "             ('##ven', 987),\n",
       "             ('fal', 988),\n",
       "             ('É', 989),\n",
       "             ('difere', 990),\n",
       "             ('##ít', 991),\n",
       "             ('##ign', 992),\n",
       "             ('Ja', 993),\n",
       "             ('##inho', 994),\n",
       "             ('segundo', 995),\n",
       "             ('considera', 996),\n",
       "             ('15', 997),\n",
       "             ('filme', 998),\n",
       "             ('##ária', 999),\n",
       "             ...])"
      ]
     },
     "execution_count": 10,
     "metadata": {},
     "output_type": "execute_result"
    }
   ],
   "source": [
    "tokenizer.vocab"
   ]
  },
  {
   "cell_type": "code",
   "execution_count": 13,
   "metadata": {},
   "outputs": [
    {
     "data": {
      "text/plain": [
       "0"
      ]
     },
     "execution_count": 13,
     "metadata": {},
     "output_type": "execute_result"
    }
   ],
   "source": [
    "tokenizer.add_special_tokens({\n",
    "    'additional_special_tokens': ['[unused1]']\n",
    "})"
   ]
  },
  {
   "cell_type": "markdown",
   "metadata": {},
   "source": [
    "Obtém indíces dos tokens especiais"
   ]
  },
  {
   "cell_type": "code",
   "execution_count": 14,
   "metadata": {},
   "outputs": [],
   "source": [
    "_CLS, _MASK, _EOS, _SEP  = tokenizer.encode('[MASK] [unused1]')"
   ]
  },
  {
   "cell_type": "code",
   "execution_count": 15,
   "metadata": {},
   "outputs": [
    {
     "name": "stdout",
     "output_type": "stream",
     "text": [
      "101 103 1 102\n"
     ]
    }
   ],
   "source": [
    "print(_CLS, _MASK, _EOS, _SEP)"
   ]
  },
  {
   "cell_type": "code",
   "execution_count": 17,
   "metadata": {},
   "outputs": [],
   "source": [
    "X, y = data.review_text.values.tolist(), data.review_title.values.tolist()"
   ]
  },
  {
   "cell_type": "markdown",
   "metadata": {},
   "source": [
    "Adiciona `[unused1]` ao final de cada título"
   ]
  },
  {
   "cell_type": "code",
   "execution_count": 18,
   "metadata": {},
   "outputs": [],
   "source": [
    "y = [yi + ' [unused1]' for yi in y]"
   ]
  },
  {
   "cell_type": "markdown",
   "metadata": {},
   "source": [
    "Tokeniza títulos (vamos usar o mesmo tamanho máximo da LSTM, adicionando apenas um token para o token final [unused1])"
   ]
  },
  {
   "cell_type": "code",
   "execution_count": 19,
   "metadata": {},
   "outputs": [],
   "source": [
    "tokenized_y = tokenizer(y, padding=True, max_length=12, truncation=True)"
   ]
  },
  {
   "cell_type": "markdown",
   "metadata": {},
   "source": [
    "Obtém o tamanho de cada título"
   ]
  },
  {
   "cell_type": "code",
   "execution_count": 20,
   "metadata": {},
   "outputs": [],
   "source": [
    "lens = np.where(np.array(tokenized_y['input_ids']) == _SEP)[-1]"
   ]
  },
  {
   "cell_type": "markdown",
   "metadata": {},
   "source": [
    "Cria sequencias para text-generation"
   ]
  },
  {
   "cell_type": "code",
   "execution_count": 21,
   "metadata": {},
   "outputs": [],
   "source": [
    "from tqdm import tqdm_notebook"
   ]
  },
  {
   "cell_type": "code",
   "execution_count": 22,
   "metadata": {},
   "outputs": [
    {
     "name": "stderr",
     "output_type": "stream",
     "text": [
      "<ipython-input-22-b1c87ddf5ecf>:4: TqdmDeprecationWarning: This function will be removed in tqdm==5.0.0\n",
      "Please use `tqdm.notebook.tqdm` instead of `tqdm.tqdm_notebook`\n",
      "  for i, seq in enumerate(tqdm_notebook(tokenized_y['input_ids'])):\n"
     ]
    },
    {
     "data": {
      "application/vnd.jupyter.widget-view+json": {
       "model_id": "e2b9ce591e1c456ba86dccd47df6253e",
       "version_major": 2,
       "version_minor": 0
      },
      "text/plain": [
       "HBox(children=(FloatProgress(value=0.0, max=132373.0), HTML(value='')))"
      ]
     },
     "metadata": {},
     "output_type": "display_data"
    },
    {
     "name": "stdout",
     "output_type": "stream",
     "text": [
      "\n"
     ]
    }
   ],
   "source": [
    "new_y = []\n",
    "new_labels = []\n",
    "\n",
    "for i, seq in enumerate(tqdm_notebook(tokenized_y['input_ids'])):\n",
    "    non_special_tokens = seq[1:lens[i]]\n",
    "    \n",
    "    new_y.append(tokenizer.batch_decode([\n",
    "        non_special_tokens[:i] + [_MASK]\n",
    "        for i in range(lens[i]-1)\n",
    "    ]))\n",
    "    \n",
    "    new_labels.append([non_special_tokens[i] for i in range(lens[i]-1)])"
   ]
  },
  {
   "cell_type": "markdown",
   "metadata": {},
   "source": [
    "O segundo título"
   ]
  },
  {
   "cell_type": "code",
   "execution_count": 23,
   "metadata": {},
   "outputs": [
    {
     "data": {
      "text/plain": [
       "'Preço imbatível, ótima qualidade [unused1]'"
      ]
     },
     "execution_count": 23,
     "metadata": {},
     "output_type": "execute_result"
    }
   ],
   "source": [
    "y[1]"
   ]
  },
  {
   "cell_type": "markdown",
   "metadata": {},
   "source": [
    "Gera as sequências"
   ]
  },
  {
   "cell_type": "code",
   "execution_count": 24,
   "metadata": {},
   "outputs": [
    {
     "data": {
      "text/plain": [
       "['[MASK]',\n",
       " 'Pre [MASK]',\n",
       " 'Preço [MASK]',\n",
       " 'Preço im [MASK]',\n",
       " 'Preço imbat [MASK]',\n",
       " 'Preço imbatível [MASK]',\n",
       " 'Preço imbatível, [MASK]',\n",
       " 'Preço imbatível, ótima [MASK]',\n",
       " 'Preço imbatível, ótima qualidade [MASK]']"
      ]
     },
     "execution_count": 24,
     "metadata": {},
     "output_type": "execute_result"
    }
   ],
   "source": [
    "new_y[1]"
   ]
  },
  {
   "cell_type": "markdown",
   "metadata": {},
   "source": [
    "Com as labels associadas:"
   ]
  },
  {
   "cell_type": "code",
   "execution_count": 25,
   "metadata": {},
   "outputs": [
    {
     "data": {
      "text/plain": [
       "['Pre',\n",
       " '##ço',\n",
       " 'im',\n",
       " '##bat',\n",
       " '##ível',\n",
       " ',',\n",
       " 'ótima',\n",
       " 'qualidade',\n",
       " '[unused1]']"
      ]
     },
     "execution_count": 25,
     "metadata": {},
     "output_type": "execute_result"
    }
   ],
   "source": [
    "tokenizer.batch_decode([[item] for item in new_labels[1]])"
   ]
  },
  {
   "cell_type": "code",
   "execution_count": 26,
   "metadata": {},
   "outputs": [],
   "source": [
    "new_lens = [len(item) for item in new_labels]"
   ]
  },
  {
   "cell_type": "markdown",
   "metadata": {},
   "source": [
    "Tokeniza todos os dados, incluindo os reviews"
   ]
  },
  {
   "cell_type": "code",
   "execution_count": 27,
   "metadata": {},
   "outputs": [],
   "source": [
    "shuffled_idx = np.arange(len(X))\n",
    "np.random.seed(42)\n",
    "np.random.shuffle(shuffled_idx)"
   ]
  },
  {
   "cell_type": "code",
   "execution_count": 28,
   "metadata": {},
   "outputs": [
    {
     "data": {
      "text/plain": [
       "array([   328,  83773, 117905, ..., 103694, 131932, 121958])"
      ]
     },
     "execution_count": 28,
     "metadata": {},
     "output_type": "execute_result"
    }
   ],
   "source": [
    "shuffled_idx"
   ]
  },
  {
   "cell_type": "code",
   "execution_count": 29,
   "metadata": {},
   "outputs": [],
   "source": [
    "X = np.array(X)[shuffled_idx]\n",
    "new_y = np.array(new_y)[shuffled_idx]\n",
    "new_labels = np.array(new_labels)[shuffled_idx]"
   ]
  },
  {
   "cell_type": "code",
   "execution_count": 30,
   "metadata": {},
   "outputs": [
    {
     "data": {
      "text/plain": [
       "'O engate em si é bom, mas a tampa que fica embaixo da bola veio errada (pequena demais, ou seja, não encaixa no engate). Além disso, NÃO veio a tomada. Absurdo!'"
      ]
     },
     "execution_count": 30,
     "metadata": {},
     "output_type": "execute_result"
    }
   ],
   "source": [
    "X[-199]"
   ]
  },
  {
   "cell_type": "code",
   "execution_count": 31,
   "metadata": {},
   "outputs": [
    {
     "data": {
      "text/plain": [
       "['[MASK]',\n",
       " 'Vei [MASK]',\n",
       " 'Veio [MASK]',\n",
       " 'Veio falta [MASK]',\n",
       " 'Veio faltando [MASK]',\n",
       " 'Veio faltando a [MASK]',\n",
       " 'Veio faltando a tomada [MASK]',\n",
       " 'Veio faltando a tomada. [MASK]']"
      ]
     },
     "execution_count": 31,
     "metadata": {},
     "output_type": "execute_result"
    }
   ],
   "source": [
    "new_y[-199]"
   ]
  },
  {
   "cell_type": "markdown",
   "metadata": {},
   "source": [
    "## Salva dados"
   ]
  },
  {
   "cell_type": "code",
   "execution_count": 199,
   "metadata": {},
   "outputs": [
    {
     "name": "stdout",
     "output_type": "stream",
     "text": [
      "mkdir: cannot create directory ‘../prepared_data’: File exists\r\n"
     ]
    }
   ],
   "source": [
    "!mkdir ../prepared_data"
   ]
  },
  {
   "cell_type": "markdown",
   "metadata": {},
   "source": [
    "Trunca os reviews em 58 tokens"
   ]
  },
  {
   "cell_type": "code",
   "execution_count": 32,
   "metadata": {},
   "outputs": [],
   "source": [
    "trunc_X = tokenizer.batch_decode(\n",
    "    tokenizer(X.tolist(), add_special_tokens=False, padding=False, \n",
    "              max_length=58, truncation=True)['input_ids']\n",
    ")"
   ]
  },
  {
   "cell_type": "markdown",
   "metadata": {},
   "source": [
    "Os reviews agora estão truncados em 58 tokens, de acordo com o tokenizador treinado."
   ]
  },
  {
   "cell_type": "code",
   "execution_count": 33,
   "metadata": {},
   "outputs": [
    {
     "data": {
      "text/plain": [
       "'p                        já falei que vocês não entregaram a mercadoria Que bo.ta de empresa é essa , desorganizada, é a segunda vez que enrolam na entrega de uma compra que efetuei...  Se demorar mais, vou cancelar a compra....  Entregam primeiro e depois vem pedir avaliação,ok'"
      ]
     },
     "execution_count": 33,
     "metadata": {},
     "output_type": "execute_result"
    }
   ],
   "source": [
    "X[5]"
   ]
  },
  {
   "cell_type": "code",
   "execution_count": 34,
   "metadata": {},
   "outputs": [
    {
     "data": {
      "text/plain": [
       "'p já falei que vocês não entregaram a mercadoria Que bo. ta de empresa é essa, desorganizada, é a segunda vez que enrolam na entrega de uma compra que efetuei... Se demorar mais, vou cancelar a compra...'"
      ]
     },
     "execution_count": 34,
     "metadata": {},
     "output_type": "execute_result"
    }
   ],
   "source": [
    "trunc_X[5]"
   ]
  },
  {
   "cell_type": "markdown",
   "metadata": {},
   "source": [
    "--------"
   ]
  },
  {
   "cell_type": "code",
   "execution_count": 35,
   "metadata": {},
   "outputs": [
    {
     "name": "stderr",
     "output_type": "stream",
     "text": [
      "<ipython-input-35-5b54173a6397>:2: TqdmDeprecationWarning: This function will be removed in tqdm==5.0.0\n",
      "Please use `tqdm.notebook.tqdm` instead of `tqdm.tqdm_notebook`\n",
      "  for review_nb, review in enumerate(tqdm_notebook(trunc_X)):\n"
     ]
    },
    {
     "data": {
      "application/vnd.jupyter.widget-view+json": {
       "model_id": "f55e7b65c89f4a2eb117f275723dc742",
       "version_major": 2,
       "version_minor": 0
      },
      "text/plain": [
       "HBox(children=(FloatProgress(value=0.0, max=132373.0), HTML(value='')))"
      ]
     },
     "metadata": {},
     "output_type": "display_data"
    },
    {
     "name": "stdout",
     "output_type": "stream",
     "text": [
      "\n"
     ]
    },
    {
     "name": "stderr",
     "output_type": "stream",
     "text": [
      "<ipython-input-35-5b54173a6397>:7: TqdmDeprecationWarning: This function will be removed in tqdm==5.0.0\n",
      "Please use `tqdm.notebook.tqdm` instead of `tqdm.tqdm_notebook`\n",
      "  for review_nb, review in enumerate(tqdm_notebook(trunc_X)):\n"
     ]
    },
    {
     "data": {
      "application/vnd.jupyter.widget-view+json": {
       "model_id": "7effaa9383704104ba848867213958e3",
       "version_major": 2,
       "version_minor": 0
      },
      "text/plain": [
       "HBox(children=(FloatProgress(value=0.0, max=132373.0), HTML(value='')))"
      ]
     },
     "metadata": {},
     "output_type": "display_data"
    },
    {
     "name": "stdout",
     "output_type": "stream",
     "text": [
      "\n"
     ]
    },
    {
     "name": "stderr",
     "output_type": "stream",
     "text": [
      "<ipython-input-35-5b54173a6397>:12: TqdmDeprecationWarning: This function will be removed in tqdm==5.0.0\n",
      "Please use `tqdm.notebook.tqdm` instead of `tqdm.tqdm_notebook`\n",
      "  for review_nb, review in enumerate(tqdm_notebook(trunc_X)):\n"
     ]
    },
    {
     "data": {
      "application/vnd.jupyter.widget-view+json": {
       "model_id": "24f09b119c8540bf952d37f088d271c1",
       "version_major": 2,
       "version_minor": 0
      },
      "text/plain": [
       "HBox(children=(FloatProgress(value=0.0, max=132373.0), HTML(value='')))"
      ]
     },
     "metadata": {},
     "output_type": "display_data"
    },
    {
     "name": "stdout",
     "output_type": "stream",
     "text": [
      "\n"
     ]
    },
    {
     "name": "stderr",
     "output_type": "stream",
     "text": [
      "<ipython-input-35-5b54173a6397>:17: TqdmDeprecationWarning: This function will be removed in tqdm==5.0.0\n",
      "Please use `tqdm.notebook.tqdm` instead of `tqdm.tqdm_notebook`\n",
      "  for review_nb, _ in enumerate(tqdm_notebook(trunc_X)):\n"
     ]
    },
    {
     "data": {
      "application/vnd.jupyter.widget-view+json": {
       "model_id": "ac268156e7054be98d8ce1696c4463e2",
       "version_major": 2,
       "version_minor": 0
      },
      "text/plain": [
       "HBox(children=(FloatProgress(value=0.0, max=132373.0), HTML(value='')))"
      ]
     },
     "metadata": {},
     "output_type": "display_data"
    },
    {
     "name": "stdout",
     "output_type": "stream",
     "text": [
      "\n"
     ]
    }
   ],
   "source": [
    "with open('../prepared_data/data.txt', 'w', encoding='utf-8') as fp:\n",
    "    for review_nb, review in enumerate(tqdm_notebook(trunc_X)):\n",
    "        for title_variation in new_y[review_nb]:\n",
    "            fp.write(review + ' [SEP] ' + title_variation + '\\n')\n",
    "            \n",
    "with open('../prepared_data/reviews.txt', 'w', encoding='utf-8') as fp:\n",
    "    for review_nb, review in enumerate(tqdm_notebook(trunc_X)):\n",
    "        for title_variation in new_y[review_nb]:\n",
    "            fp.write(review + '\\n')\n",
    "            \n",
    "with open('../prepared_data/titles.txt', 'w', encoding='utf-8') as fp:\n",
    "    for review_nb, review in enumerate(tqdm_notebook(trunc_X)):\n",
    "        for title_variation in new_y[review_nb]:\n",
    "            fp.write(title_variation + '\\n')\n",
    "\n",
    "with open('../prepared_data/labels.txt', 'w', encoding='utf-8') as fp:\n",
    "    for review_nb, _ in enumerate(tqdm_notebook(trunc_X)):\n",
    "        for label in new_labels[review_nb]:\n",
    "            fp.write(str(label) + '\\n')"
   ]
  },
  {
   "cell_type": "code",
   "execution_count": 218,
   "metadata": {},
   "outputs": [
    {
     "name": "stdout",
     "output_type": "stream",
     "text": [
      "Ele e muito bom ,bom, bom , bom , bom. BOM BOM BOM Tao bom ,que fica ruim. [SEP] [MASK]\r\n",
      "Ele e muito bom ,bom, bom , bom , bom. BOM BOM BOM Tao bom ,que fica ruim. [SEP] Produ [MASK]\r\n",
      "Ele e muito bom ,bom, bom , bom , bom. BOM BOM BOM Tao bom ,que fica ruim. [SEP] Produto [MASK]\r\n",
      "Ele e muito bom ,bom, bom , bom , bom. BOM BOM BOM Tao bom ,que fica ruim. [SEP] Produto de [MASK]\r\n",
      "Ele e muito bom ,bom, bom , bom , bom. BOM BOM BOM Tao bom ,que fica ruim. [SEP] Produto de excelente [MASK]\r\n",
      "Ele e muito bom ,bom, bom , bom , bom. BOM BOM BOM Tao bom ,que fica ruim. [SEP] Produto de excelente qualidade [MASK]\r\n",
      "Ele e muito bom ,bom, bom , bom , bom. BOM BOM BOM Tao bom ,que fica ruim. [SEP] Produto de excelente qualidade. [MASK]\r\n"
     ]
    }
   ],
   "source": [
    "!head -n 7 ../prepared_data/data.txt"
   ]
  },
  {
   "cell_type": "code",
   "execution_count": 219,
   "metadata": {},
   "outputs": [
    {
     "name": "stdout",
     "output_type": "stream",
     "text": [
      "8169\r\n",
      "183\r\n",
      "125\r\n",
      "9235\r\n",
      "3322\r\n",
      "119\r\n",
      "29794\r\n"
     ]
    }
   ],
   "source": [
    "!head -n 7 ../prepared_data/labels.txt"
   ]
  },
  {
   "cell_type": "code",
   "execution_count": 217,
   "metadata": {},
   "outputs": [
    {
     "data": {
      "text/plain": [
       "'Produto de excelente qualidade. [EOS]'"
      ]
     },
     "execution_count": 217,
     "metadata": {},
     "output_type": "execute_result"
    }
   ],
   "source": [
    "tokenizer.decode([8169, 183, 125, 9235, 3322, 119, 29794])"
   ]
  }
 ],
 "metadata": {
  "kernelspec": {
   "display_name": "tf2",
   "language": "python",
   "name": "tf2"
  },
  "language_info": {
   "codemirror_mode": {
    "name": "ipython",
    "version": 3
   },
   "file_extension": ".py",
   "mimetype": "text/x-python",
   "name": "python",
   "nbconvert_exporter": "python",
   "pygments_lexer": "ipython3",
   "version": "3.8.3"
  }
 },
 "nbformat": 4,
 "nbformat_minor": 4
}
