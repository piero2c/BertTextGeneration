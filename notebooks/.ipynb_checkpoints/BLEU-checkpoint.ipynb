{
 "cells": [
  {
   "cell_type": "code",
   "execution_count": 47,
   "metadata": {},
   "outputs": [],
   "source": [
    "from pathlib import Path\n",
    "from nltk.tokenize import word_tokenize\n",
    "from nltk.translate.bleu_score import sentence_bleu, corpus_bleu, SmoothingFunction\n",
    "from nltk.translate.meteor_score import meteor_score\n",
    "import matplotlib.pyplot as plt\n",
    "import pandas as pd\n",
    "import numpy as np\n",
    "\n",
    "%matplotlib inline"
   ]
  },
  {
   "cell_type": "code",
   "execution_count": 64,
   "metadata": {},
   "outputs": [],
   "source": [
    "titles = [title.strip().lower()\n",
    "          for title in open('../prepared_data/lstm/te_titles.txt', encoding='utf-8').readlines()]\n"
   ]
  },
  {
   "cell_type": "markdown",
   "metadata": {},
   "source": [
    "Obtém predições e faz tokenização"
   ]
  },
  {
   "cell_type": "code",
   "execution_count": 65,
   "metadata": {},
   "outputs": [],
   "source": [
    "model_predictions = {\n",
    "    model: [line.strip().lower() for line in open(f'../predictions/{model}.txt').readlines()]\n",
    "    for model in ['lstm', 'bert_cls', 'bert_mask']\n",
    "}"
   ]
  },
  {
   "cell_type": "code",
   "execution_count": 71,
   "metadata": {},
   "outputs": [],
   "source": [
    "stemmer = SnowballStemmer('portuguese')"
   ]
  },
  {
   "cell_type": "code",
   "execution_count": 109,
   "metadata": {},
   "outputs": [],
   "source": [
    "avg_meteor_score = {\n",
    "    model: np.mean([meteor_score([titles[i]], pred, stemmer=stemmer) for i, pred in enumerate(predictions)])\n",
    "    for model, predictions in model_predictions.items()\n",
    "}"
   ]
  },
  {
   "cell_type": "code",
   "execution_count": 110,
   "metadata": {},
   "outputs": [
    {
     "data": {
      "text/plain": [
       "{'lstm': 0.10382020078018833,\n",
       " 'bert_cls': 0.10373584094684014,\n",
       " 'bert_mask': 0.12589191821027562}"
      ]
     },
     "execution_count": 110,
     "metadata": {},
     "output_type": "execute_result"
    }
   ],
   "source": [
    "avg_meteor_score"
   ]
  },
  {
   "cell_type": "markdown",
   "metadata": {},
   "source": [
    "Faz tokenização"
   ]
  },
  {
   "cell_type": "code",
   "execution_count": null,
   "metadata": {},
   "outputs": [],
   "source": [
    "titles = [word_tokenize(title, language='portuguese') for title in titles]"
   ]
  },
  {
   "cell_type": "code",
   "execution_count": null,
   "metadata": {},
   "outputs": [],
   "source": [
    "model_predictions = {\n",
    "    model: [word_tokenize(pred, language='portuguese') for pred in predictions]\n",
    "    for model, predictions in model_predictions.items()\n",
    "}"
   ]
  },
  {
   "cell_type": "markdown",
   "metadata": {},
   "source": [
    "Calcula bleu scores"
   ]
  },
  {
   "cell_type": "code",
   "execution_count": 50,
   "metadata": {},
   "outputs": [],
   "source": [
    "def cumulative_bleu_scores(titles, predictions, ngram_order=3):\n",
    "    results = np.zeros(ngram_order)\n",
    "    \n",
    "    # Obtém título e predição para o texto `text_nb`.\n",
    "    titles = [[title] for title in titles]\n",
    "        \n",
    "    for ngram in range(ngram_order):\n",
    "        # Obtém o simplex de dimensão `ngram` e concatena o restante do vetor com zeros\n",
    "        # p/ que este tenha dimensão 4.\n",
    "        weighting = tuple(1/(ngram+1) if i <= ngram else 0 for i in range(ngram_order))\n",
    "        results[ngram] = corpus_bleu(titles, predictions, weights=weighting,\n",
    "                                              smoothing_function=SmoothingFunction().method3)\n",
    "\n",
    "    \n",
    "    return results"
   ]
  },
  {
   "cell_type": "markdown",
   "metadata": {},
   "source": [
    "----"
   ]
  },
  {
   "cell_type": "code",
   "execution_count": 51,
   "metadata": {},
   "outputs": [
    {
     "data": {
      "text/plain": [
       "array([0.15769991, 0.09350181, 0.06126979])"
      ]
     },
     "execution_count": 51,
     "metadata": {},
     "output_type": "execute_result"
    }
   ],
   "source": [
    "cumulative_bleu_scores(titles, model_predictions['lstm'])"
   ]
  },
  {
   "cell_type": "code",
   "execution_count": 52,
   "metadata": {},
   "outputs": [
    {
     "data": {
      "text/plain": [
       "array([0.17067533, 0.10432747, 0.06862665])"
      ]
     },
     "execution_count": 52,
     "metadata": {},
     "output_type": "execute_result"
    }
   ],
   "source": [
    "cumulative_bleu_scores(titles, model_predictions['bert_cls'])"
   ]
  },
  {
   "cell_type": "code",
   "execution_count": 53,
   "metadata": {},
   "outputs": [
    {
     "data": {
      "text/plain": [
       "array([0.17664902, 0.11164997, 0.07619126])"
      ]
     },
     "execution_count": 53,
     "metadata": {},
     "output_type": "execute_result"
    }
   ],
   "source": [
    "cumulative_bleu_scores(titles, model_predictions['bert_mask'])"
   ]
  },
  {
   "cell_type": "code",
   "execution_count": 322,
   "metadata": {},
   "outputs": [
    {
     "data": {
      "text/plain": [
       "['fone', 'de', 'ouvido', 'péssima', 'qualidade']"
      ]
     },
     "execution_count": 322,
     "metadata": {},
     "output_type": "execute_result"
    }
   ],
   "source": [
    "titles[3]"
   ]
  },
  {
   "cell_type": "markdown",
   "metadata": {},
   "source": [
    "Gera tabela NIST"
   ]
  },
  {
   "cell_type": "code",
   "execution_count": 316,
   "metadata": {},
   "outputs": [],
   "source": [
    "reviews = [line.strip() for line in open('../prepared_data/lstm/te_reviews.txt', encoding='utf-8').readlines()]"
   ]
  },
  {
   "cell_type": "code",
   "execution_count": 329,
   "metadata": {},
   "outputs": [],
   "source": [
    "model_predictions = {\n",
    "    model: [line.strip() for line in open(f'../predictions/{model}.txt').readlines()]\n",
    "    for model in ['lstm', 'bert_cls', 'bert_mask']\n",
    "}"
   ]
  },
  {
   "cell_type": "code",
   "execution_count": 336,
   "metadata": {},
   "outputs": [],
   "source": [
    "pd.DataFrame({\n",
    "    'review': reviews[0:200],\n",
    "    'modelo1': model_predictions['lstm'][0:200],\n",
    "    'nota_modelo1': '',\n",
    "    'modelo2': model_predictions['bert_cls'][0:200],\n",
    "    'nota_modelo2': '',\n",
    "    'modelo3': model_predictions['bert_mask'][0:200],\n",
    "    'nota_modelo3': ''\n",
    "}).to_excel('../scores/planilha_nota.xlsx')"
   ]
  },
  {
   "cell_type": "markdown",
   "metadata": {},
   "source": [
    "## METEOR"
   ]
  },
  {
   "cell_type": "code",
   "execution_count": 16,
   "metadata": {},
   "outputs": [],
   "source": [
    "import nltk"
   ]
  },
  {
   "cell_type": "code",
   "execution_count": 17,
   "metadata": {},
   "outputs": [],
   "source": [
    "assert nltk.__version__ == '3.5'"
   ]
  },
  {
   "cell_type": "code",
   "execution_count": 39,
   "metadata": {},
   "outputs": [
    {
     "data": {
      "text/plain": [
       "['bichano',\n",
       " 'gata',\n",
       " 'gato',\n",
       " 'gato-doméstico',\n",
       " 'Gato_doméstico',\n",
       " 'Gato-doméstico']"
      ]
     },
     "execution_count": 39,
     "metadata": {},
     "output_type": "execute_result"
    }
   ],
   "source": [
    "wordnet.synsets('gato', lang='por')[0].lemma_names(lang='por')"
   ]
  },
  {
   "cell_type": "code",
   "execution_count": 40,
   "metadata": {},
   "outputs": [
    {
     "ename": "NameError",
     "evalue": "name 'meteor_score' is not defined",
     "output_type": "error",
     "traceback": [
      "\u001b[0;31m---------------------------------------------------------------------------\u001b[0m",
      "\u001b[0;31mNameError\u001b[0m                                 Traceback (most recent call last)",
      "\u001b[0;32m<ipython-input-40-b5140deb8dc3>\u001b[0m in \u001b[0;36m<module>\u001b[0;34m\u001b[0m\n\u001b[0;32m----> 1\u001b[0;31m \u001b[0mmeteor_score\u001b[0m\u001b[0;34m(\u001b[0m\u001b[0;34m'apenas um teste'\u001b[0m\u001b[0;34m,\u001b[0m \u001b[0;34m'apenas um testea'\u001b[0m\u001b[0;34m,\u001b[0m \u001b[0mstemmer\u001b[0m\u001b[0;34m=\u001b[0m\u001b[0mstemmer\u001b[0m\u001b[0;34m,\u001b[0m \u001b[0mwordnet\u001b[0m\u001b[0;34m=\u001b[0m\u001b[0mwordnet\u001b[0m\u001b[0;34m.\u001b[0m\u001b[0mlangs\u001b[0m\u001b[0;34m)\u001b[0m\u001b[0;34m\u001b[0m\u001b[0;34m\u001b[0m\u001b[0m\n\u001b[0m",
      "\u001b[0;31mNameError\u001b[0m: name 'meteor_score' is not defined"
     ]
    }
   ],
   "source": [
    "meteor_score('apenas um teste', 'apenas um testea', stemmer=stemmer)"
   ]
  }
 ],
 "metadata": {
  "kernelspec": {
   "display_name": "Python 3",
   "language": "python",
   "name": "python3"
  },
  "language_info": {
   "codemirror_mode": {
    "name": "ipython",
    "version": 3
   },
   "file_extension": ".py",
   "mimetype": "text/x-python",
   "name": "python",
   "nbconvert_exporter": "python",
   "pygments_lexer": "ipython3",
   "version": "3.7.6"
  }
 },
 "nbformat": 4,
 "nbformat_minor": 4
}
