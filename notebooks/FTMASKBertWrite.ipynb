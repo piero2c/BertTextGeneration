{
 "cells": [
  {
   "cell_type": "code",
   "execution_count": 1,
   "metadata": {},
   "outputs": [
    {
     "name": "stderr",
     "output_type": "stream",
     "text": [
      "/home/pi/anaconda3/envs/tf2/lib/python3.8/site-packages/torch/cuda/__init__.py:52: UserWarning: CUDA initialization: The NVIDIA driver on your system is too old (found version 10010). Please update your GPU driver by downloading and installing a new version from the URL: http://www.nvidia.com/Download/index.aspx Alternatively, go to: https://pytorch.org to install a PyTorch version that has been compiled with your version of the CUDA driver. (Triggered internally at  /pytorch/c10/cuda/CUDAFunctions.cpp:100.)\n",
      "  return torch._C._cuda_getDeviceCount() > 0\n"
     ]
    }
   ],
   "source": [
    "from transformers import AutoTokenizer, TFAutoModelForMaskedLM"
   ]
  },
  {
   "cell_type": "code",
   "execution_count": 2,
   "metadata": {},
   "outputs": [],
   "source": [
    "tokenizer = AutoTokenizer.from_pretrained('neuralmind/bert-base-portuguese-cased')"
   ]
  },
  {
   "cell_type": "code",
   "execution_count": 3,
   "metadata": {},
   "outputs": [
    {
     "data": {
      "text/plain": [
       "0"
      ]
     },
     "execution_count": 3,
     "metadata": {},
     "output_type": "execute_result"
    }
   ],
   "source": [
    "tokenizer.add_special_tokens({\n",
    "    'additional_special_tokens': ['[unused1]']\n",
    "})"
   ]
  },
  {
   "cell_type": "code",
   "execution_count": 42,
   "metadata": {},
   "outputs": [
    {
     "name": "stderr",
     "output_type": "stream",
     "text": [
      "All model checkpoint layers were used when initializing TFBertForMaskedLM.\n",
      "\n",
      "All the layers of TFBertForMaskedLM were initialized from the model checkpoint at ../models/ft_bert_mask/.\n",
      "If your task is similar to the task the model of the checkpoint was trained on, you can already use TFBertForMaskedLM for predictions without further training.\n"
     ]
    }
   ],
   "source": [
    "bert = TFAutoModelForMaskedLM.from_pretrained('../models/ft_bert_mask/')"
   ]
  },
  {
   "cell_type": "code",
   "execution_count": 43,
   "metadata": {},
   "outputs": [],
   "source": [
    "_CLS, _MASK, _EOS, _SEP  = tokenizer.encode('[MASK] [unused1]')"
   ]
  },
  {
   "cell_type": "code",
   "execution_count": 44,
   "metadata": {},
   "outputs": [],
   "source": [
    "import numpy as np"
   ]
  },
  {
   "cell_type": "code",
   "execution_count": 45,
   "metadata": {},
   "outputs": [],
   "source": [
    "review_texts = ['apenas um texto', 'outro']\n",
    "whole_titles = ['[MASK]', '[MASK]']"
   ]
  },
  {
   "cell_type": "code",
   "execution_count": 46,
   "metadata": {},
   "outputs": [],
   "source": [
    "tokenized_input = tokenizer(review_texts, whole_titles, return_tensors='tf', padding='max_length',\n",
    "                                     max_length=5 + 11 + 4)     "
   ]
  },
  {
   "cell_type": "code",
   "execution_count": 47,
   "metadata": {},
   "outputs": [
    {
     "data": {
      "text/plain": [
       "<tf.Tensor: shape=(2, 29794), dtype=float32, numpy=\n",
       "array([[-6.6429935,  1.40469  , -5.4525623, ..., -7.8894453, -6.633621 ,\n",
       "        -6.831627 ],\n",
       "       [-6.1103907,  1.1898679, -6.339181 , ..., -7.5574946, -6.4570165,\n",
       "        -6.7736015]], dtype=float32)>"
      ]
     },
     "execution_count": 47,
     "metadata": {},
     "output_type": "execute_result"
    }
   ],
   "source": [
    "bert(tokenized_input)[0][:, 0, :]"
   ]
  },
  {
   "cell_type": "code",
   "execution_count": 69,
   "metadata": {},
   "outputs": [],
   "source": [
    "def bert_mask_write(review_texts):\n",
    "    global _MASK, _EOS\n",
    "    whole_titles = ['[MASK]']*len(review_texts)\n",
    "    whole_titles_ids = [[_MASK] for _ in range(len(review_texts))]\n",
    "\n",
    "    # Obtém o tamanho (em tokens) do maior review\n",
    "    review_max_len = max(len(review) for review in tokenizer(review_texts,\n",
    "                                                             add_special_tokens=False)['input_ids'])\n",
    "    \n",
    "    for _ in range(11):\n",
    "        tokenized_input = tokenizer(review_texts, whole_titles, return_tensors='tf', padding='max_length',\n",
    "                                     max_length=review_max_len + 11 + 4)       \n",
    "\n",
    "        logits = bert(tokenized_input)[0]\n",
    "        logits = logits[tokenized_input['input_ids'] == _MASK]\n",
    "        best_tokens = logits.numpy().argmax(axis=-1)\n",
    "\n",
    "        tokenized_input_ids = tokenized_input['input_ids'].numpy()\n",
    "        \n",
    "        for text_nb, input_ids in enumerate(tokenized_input_ids):\n",
    "            tokenized_input_ids[text_nb][input_ids == _MASK] = best_tokens[text_nb]\n",
    "        \n",
    "        # Remove os tokens antes do primeiro [SEP]\n",
    "        tokenized_input_ids = [\n",
    "            input_ids[input_ids.index(_SEP)+1:] for input_ids in tokenized_input_ids.tolist()\n",
    "        ]\n",
    "        \n",
    "        # Remove os tokens depois do último [SEP]\n",
    "        tokenized_input_ids = [\n",
    "            input_ids[:input_ids.index(_SEP)] for input_ids in tokenized_input_ids\n",
    "        ]\n",
    "        \n",
    "        # Transforma os índices em texto e adiciona [MASK] no final\n",
    "        whole_titles = [tokenizer.decode(input_ids) + ' [MASK]'\n",
    "                        for text_nb, input_ids in enumerate(tokenized_input_ids)]\n",
    "    \n",
    "    return [\n",
    "        whole_title[:whole_title.find('[unused1]')].replace('[MASK]', '').strip() for whole_title in whole_titles\n",
    "    ]"
   ]
  },
  {
   "cell_type": "code",
   "execution_count": 71,
   "metadata": {},
   "outputs": [
    {
     "data": {
      "text/plain": [
       "['duvidas', 'Gostei muito do produto']"
      ]
     },
     "execution_count": 71,
     "metadata": {},
     "output_type": "execute_result"
    }
   ],
   "source": [
    "bert_mask_write(['gostaria de saber se vocês tem horario de entrega ?',\n",
    "                'Valeu a pena comprar,bom produto e bom de manusear..'])"
   ]
  }
 ],
 "metadata": {
  "kernelspec": {
   "display_name": "tf2",
   "language": "python",
   "name": "tf2"
  },
  "language_info": {
   "codemirror_mode": {
    "name": "ipython",
    "version": 3
   },
   "file_extension": ".py",
   "mimetype": "text/x-python",
   "name": "python",
   "nbconvert_exporter": "python",
   "pygments_lexer": "ipython3",
   "version": "3.8.3"
  }
 },
 "nbformat": 4,
 "nbformat_minor": 4
}
