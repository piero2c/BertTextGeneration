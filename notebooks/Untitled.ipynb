{
 "cells": [
  {
   "cell_type": "code",
   "execution_count": 2,
   "metadata": {},
   "outputs": [
    {
     "name": "stderr",
     "output_type": "stream",
     "text": [
      "/home/pi/anaconda3/envs/tf2/lib/python3.8/site-packages/torch/cuda/__init__.py:52: UserWarning: CUDA initialization: The NVIDIA driver on your system is too old (found version 10010). Please update your GPU driver by downloading and installing a new version from the URL: http://www.nvidia.com/Download/index.aspx Alternatively, go to: https://pytorch.org to install a PyTorch version that has been compiled with your version of the CUDA driver. (Triggered internally at  /pytorch/c10/cuda/CUDAFunctions.cpp:100.)\n",
      "  return torch._C._cuda_getDeviceCount() > 0\n"
     ]
    }
   ],
   "source": [
    "from transformers import TFBertForMaskedLM, AutoTokenizer, TFAutoModelForMaskedLM"
   ]
  },
  {
   "cell_type": "code",
   "execution_count": 1,
   "metadata": {},
   "outputs": [
    {
     "ename": "NameError",
     "evalue": "name 'AutoTokenizer' is not defined",
     "output_type": "error",
     "traceback": [
      "\u001b[0;31m---------------------------------------------------------------------------\u001b[0m",
      "\u001b[0;31mNameError\u001b[0m                                 Traceback (most recent call last)",
      "\u001b[0;32m<ipython-input-1-3d4810edc09b>\u001b[0m in \u001b[0;36m<module>\u001b[0;34m\u001b[0m\n\u001b[1;32m      1\u001b[0m \u001b[0;31m# Carrega a implementação em python do tokenizador, no meu caso, escolhi isso para diminuir o pico de memória\u001b[0m\u001b[0;34m\u001b[0m\u001b[0;34m\u001b[0m\u001b[0;34m\u001b[0m\u001b[0m\n\u001b[0;32m----> 2\u001b[0;31m \u001b[0mtokenizer\u001b[0m \u001b[0;34m=\u001b[0m \u001b[0mAutoTokenizer\u001b[0m\u001b[0;34m.\u001b[0m\u001b[0mfrom_pretrained\u001b[0m\u001b[0;34m(\u001b[0m\u001b[0;34m'neuralmind/bert-base-portuguese-cased'\u001b[0m\u001b[0;34m,\u001b[0m \u001b[0muse_fast\u001b[0m\u001b[0;34m=\u001b[0m\u001b[0;32mTrue\u001b[0m\u001b[0;34m)\u001b[0m\u001b[0;34m\u001b[0m\u001b[0;34m\u001b[0m\u001b[0m\n\u001b[0m\u001b[1;32m      3\u001b[0m \u001b[0mbert\u001b[0m \u001b[0;34m=\u001b[0m \u001b[0mTFAutoModelForMaskedLM\u001b[0m\u001b[0;34m.\u001b[0m\u001b[0mfrom_pretrained\u001b[0m\u001b[0;34m(\u001b[0m\u001b[0;34m'neuralmind/bert-base-portuguese-cased'\u001b[0m\u001b[0;34m,\u001b[0m \u001b[0mfrom_pt\u001b[0m\u001b[0;34m=\u001b[0m\u001b[0;32mTrue\u001b[0m\u001b[0;34m)\u001b[0m\u001b[0;34m\u001b[0m\u001b[0;34m\u001b[0m\u001b[0m\n",
      "\u001b[0;31mNameError\u001b[0m: name 'AutoTokenizer' is not defined"
     ]
    }
   ],
   "source": [
    "# Carrega a implementação em python do tokenizador, no meu caso, escolhi isso para diminuir o pico de memória\n",
    "tokenizer = AutoTokenizer.from_pretrained('neuralmind/bert-base-portuguese-cased', use_fast=True)\n",
    "bert = TFAutoModelForMaskedLM.from_pretrained('neuralmind/bert-base-portuguese-cased', from_pt=True)"
   ]
  },
  {
   "cell_type": "code",
   "execution_count": 3,
   "metadata": {},
   "outputs": [
    {
     "name": "stderr",
     "output_type": "stream",
     "text": [
      "Some weights of the PyTorch model were not used when initializing the TF 2.0 model TFBertForMaskedLM: ['cls.seq_relationship.bias', 'cls.seq_relationship.weight', 'cls.predictions.decoder.weight']\n",
      "- This IS expected if you are initializing TFBertForMaskedLM from a PyTorch model trained on another task or with another architecture (e.g. initializing a TFBertForSequenceClassification model from a BertForPreTraining model).\n",
      "- This IS NOT expected if you are initializing TFBertForMaskedLM from a PyTorch model that you expect to be exactly identical (e.g. initializing a TFBertForSequenceClassification model from a BertForSequenceClassification model).\n",
      "All the weights of TFBertForMaskedLM were initialized from the PyTorch model.\n",
      "If your task is similar to the task the model of the checkpoint was trained on, you can already use TFBertForMaskedLM for predictions without further training.\n"
     ]
    }
   ],
   "source": [
    "    bert = TFAutoModelForMaskedLM.from_pretrained('neuralmind/bert-base-portuguese-cased', from_pt=True)"
   ]
  },
  {
   "cell_type": "code",
   "execution_count": 4,
   "metadata": {},
   "outputs": [],
   "source": [
    "x = tokenizer([\n",
    "               'apenas um texto de testes', 'outro texto'\n",
    "], return_tensors='tf', padding=True)"
   ]
  },
  {
   "cell_type": "code",
   "execution_count": 7,
   "metadata": {},
   "outputs": [
    {
     "data": {
      "text/plain": [
       "'/job:localhost/replica:0/task:0/device:CPU:0'"
      ]
     },
     "execution_count": 7,
     "metadata": {},
     "output_type": "execute_result"
    }
   ],
   "source": [
    "x['input_ids'].device"
   ]
  },
  {
   "cell_type": "code",
   "execution_count": 5,
   "metadata": {},
   "outputs": [
    {
     "data": {
      "text/plain": [
       "(<tf.Tensor: shape=(2, 7, 29794), dtype=float32, numpy=\n",
       " array([[[ -8.262322 ,  -7.381405 ,  -7.076111 , ...,  -8.862067 ,\n",
       "           -7.1508217,  -8.070441 ],\n",
       "         [ -7.244886 ,  -6.0197287,  -6.6308775, ...,  -9.919681 ,\n",
       "           -8.282276 , -10.297958 ],\n",
       "         [-18.044634 , -18.315098 , -15.364254 , ..., -17.838314 ,\n",
       "          -14.761323 , -15.618267 ],\n",
       "         ...,\n",
       "         [-12.841347 , -14.886721 , -11.94846  , ..., -13.736883 ,\n",
       "          -11.255854 , -11.977715 ],\n",
       "         [ -4.5761204,  -4.0104046,  -7.123255 , ...,  -5.6772366,\n",
       "           -5.668527 ,  -6.352577 ],\n",
       "         [ -8.368065 ,  -7.4300985,  -7.163705 , ...,  -8.98372  ,\n",
       "           -7.2025824,  -8.176087 ]],\n",
       " \n",
       "        [[ -8.437203 ,  -7.6402197,  -7.547044 , ...,  -9.370376 ,\n",
       "           -6.9908733,  -8.355909 ],\n",
       "         [ -7.8839455,  -7.8511963,  -6.461328 , ...,  -9.207219 ,\n",
       "           -5.864498 ,  -7.664566 ],\n",
       "         [-11.9927025,  -8.007    , -11.308679 , ..., -10.439963 ,\n",
       "           -9.132164 , -12.000655 ],\n",
       "         ...,\n",
       "         [ -8.7011   ,  -7.381319 ,  -6.9015207, ...,  -7.540416 ,\n",
       "           -6.2424817,  -6.6983323],\n",
       "         [ -7.931881 ,  -6.3484526,  -8.252061 , ...,  -5.976947 ,\n",
       "           -6.1619425,  -7.26577  ],\n",
       "         [ -7.8299923,  -8.278321 ,  -7.5899663, ...,  -8.350447 ,\n",
       "           -6.4395037,  -6.3199577]]], dtype=float32)>,)"
      ]
     },
     "execution_count": 5,
     "metadata": {},
     "output_type": "execute_result"
    }
   ],
   "source": [
    "bert(x)"
   ]
  }
 ],
 "metadata": {
  "kernelspec": {
   "display_name": "tf2",
   "language": "python",
   "name": "tf2"
  },
  "language_info": {
   "codemirror_mode": {
    "name": "ipython",
    "version": 3
   },
   "file_extension": ".py",
   "mimetype": "text/x-python",
   "name": "python",
   "nbconvert_exporter": "python",
   "pygments_lexer": "ipython3",
   "version": "3.8.3"
  }
 },
 "nbformat": 4,
 "nbformat_minor": 4
}
